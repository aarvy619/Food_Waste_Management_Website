{
 "cells": [
  {
   "cell_type": "code",
   "execution_count": 26,
   "metadata": {},
   "outputs": [],
   "source": [
    "import smtplib\n",
    "import email\n",
    "\n",
    "from email.mime.text import MIMEText\n",
    "\n",
    "from email.mime.image import MIMEImage\n",
    "\n",
    "from email.mime.multipart import MIMEMultipart\n",
    "from email.header import Header"
   ]
  },
  {
   "cell_type": "code",
   "execution_count": 32,
   "metadata": {},
   "outputs": [],
   "source": [
    "\n",
    "mail_host = \"smtp.163.com\"\n",
    "\n",
    "mail_sender = \"homerunta11@163.com\"\n",
    "\n",
    "mail_license = \"NYVDOFJYHQBVNATI\"\n",
    "\n",
    "mail_receivers = [\"pear0001@student.monash.edu\"]\n"
   ]
  },
  {
   "cell_type": "code",
   "execution_count": 33,
   "metadata": {},
   "outputs": [],
   "source": [
    "mm = MIMEMultipart('related')"
   ]
  },
  {
   "cell_type": "code",
   "execution_count": 34,
   "metadata": {},
   "outputs": [],
   "source": [
    "\n",
    "subject_content = \"\"\"Python mail test\"\"\"\n",
    "\n",
    "mm[\"From\"] = \"homerun<homerunta11@163.com>\"\n",
    "\n",
    "mm[\"To\"] = \"User<pear0001@student.monash.edu>\"\n",
    "\n",
    "mm[\"Subject\"] = Header(subject_content,'utf-8')\n"
   ]
  },
  {
   "cell_type": "code",
   "execution_count": 35,
   "metadata": {},
   "outputs": [],
   "source": [
    "\n",
    "body_content = \"\"\"你好，这是一个测试邮件！\"\"\"\n",
    "\n",
    "message_text = MIMEText(body_content,\"plain\",\"utf-8\")\n",
    "\n",
    "mm.attach(message_text)"
   ]
  },
  {
   "cell_type": "code",
   "execution_count": 36,
   "metadata": {},
   "outputs": [
    {
     "name": "stderr",
     "output_type": "stream",
     "text": [
      "send: 'ehlo 192-168-1-101.tpgi.com.au\\r\\n'\n",
      "reply: b'250-mail\\r\\n'\n",
      "reply: b'250-PIPELINING\\r\\n'\n",
      "reply: b'250-AUTH LOGIN PLAIN \\r\\n'\n",
      "reply: b'250-AUTH=LOGIN PLAIN\\r\\n'\n",
      "reply: b'250-coremail 1Uxr2xKj7kG0xkI17xGrU7I0s8FY2U3Uj8Cz28x1UUUUU7Ic2I0Y2UF9AoVaUCa0xDrUUUUj\\r\\n'\n",
      "reply: b'250-STARTTLS\\r\\n'\n",
      "reply: b'250 8BITMIME\\r\\n'\n",
      "reply: retcode (250); Msg: b'mail\\nPIPELINING\\nAUTH LOGIN PLAIN\\nAUTH=LOGIN PLAIN\\ncoremail 1Uxr2xKj7kG0xkI17xGrU7I0s8FY2U3Uj8Cz28x1UUUUU7Ic2I0Y2UF9AoVaUCa0xDrUUUUj\\nSTARTTLS\\n8BITMIME'\n",
      "send: 'AUTH PLAIN AGhvbWVydW50YTExQDE2My5jb20ATllWRE9GSllIUUJWTkFUSQ==\\r\\n'\n",
      "reply: b'235 Authentication successful\\r\\n'\n",
      "reply: retcode (235); Msg: b'Authentication successful'\n",
      "send: 'mail FROM:<homerunta11@163.com>\\r\\n'\n",
      "reply: b'250 Mail OK\\r\\n'\n",
      "reply: retcode (250); Msg: b'Mail OK'\n",
      "send: 'rcpt TO:<pear0001@student.monash.edu>\\r\\n'\n",
      "reply: b'250 Mail OK\\r\\n'\n",
      "reply: retcode (250); Msg: b'Mail OK'\n",
      "send: 'data\\r\\n'\n",
      "reply: b'354 End data with <CR><LF>.<CR><LF>\\r\\n'\n",
      "reply: retcode (354); Msg: b'End data with <CR><LF>.<CR><LF>'\n",
      "data: (354, b'End data with <CR><LF>.<CR><LF>')\n",
      "send: b'Content-Type: multipart/related; boundary=\"===============7839494124088661190==\"\\r\\nMIME-Version: 1.0\\r\\nFrom: homerun<homerunta11@163.com>\\r\\nTo: User<pear0001@student.monash.edu>\\r\\nSubject: =?utf-8?q?Python_mail_test?=\\r\\n\\r\\n--===============7839494124088661190==\\r\\nContent-Type: text/plain; charset=\"utf-8\"\\r\\nMIME-Version: 1.0\\r\\nContent-Transfer-Encoding: base64\\r\\n\\r\\n5L2g5aW977yM6L+Z5piv5LiA5Liq5rWL6K+V6YKu5Lu277yB\\r\\n\\r\\n--===============7839494124088661190==--\\r\\n.\\r\\n'\n",
      "reply: b'250 Mail OK queued as smtp2,GtxpCgCnAArSaCdhvf4DQA--.11491S2 1629972692\\r\\n'\n",
      "reply: retcode (250); Msg: b'Mail OK queued as smtp2,GtxpCgCnAArSaCdhvf4DQA--.11491S2 1629972692'\n",
      "data: (250, b'Mail OK queued as smtp2,GtxpCgCnAArSaCdhvf4DQA--.11491S2 1629972692')\n",
      "send: 'quit\\r\\n'\n"
     ]
    },
    {
     "name": "stdout",
     "output_type": "stream",
     "text": [
      "邮件发送成功\n"
     ]
    },
    {
     "name": "stderr",
     "output_type": "stream",
     "text": [
      "reply: b'221 Bye\\r\\n'\n",
      "reply: retcode (221); Msg: b'Bye'\n"
     ]
    },
    {
     "data": {
      "text/plain": [
       "(221, b'Bye')"
      ]
     },
     "execution_count": 36,
     "metadata": {},
     "output_type": "execute_result"
    }
   ],
   "source": [
    "\n",
    "stp = smtplib.SMTP()\n",
    "\n",
    "stp.connect(mail_host, 25)  \n",
    "\n",
    "stp.set_debuglevel(1)\n",
    "\n",
    "stp.login(mail_sender,mail_license)\n",
    "\n",
    "stp.sendmail(mail_sender, mail_receivers, mm.as_string())\n",
    "print(\"邮件发送成功\")\n",
    "\n",
    "stp.quit()"
   ]
  },
  {
   "cell_type": "code",
   "execution_count": null,
   "metadata": {},
   "outputs": [],
   "source": []
  }
 ],
 "metadata": {
  "kernelspec": {
   "display_name": "Python 3",
   "language": "python",
   "name": "python3"
  },
  "language_info": {
   "codemirror_mode": {
    "name": "ipython",
    "version": 3
   },
   "file_extension": ".py",
   "mimetype": "text/x-python",
   "name": "python",
   "nbconvert_exporter": "python",
   "pygments_lexer": "ipython3",
   "version": "3.7.6"
  }
 },
 "nbformat": 4,
 "nbformat_minor": 4
}
